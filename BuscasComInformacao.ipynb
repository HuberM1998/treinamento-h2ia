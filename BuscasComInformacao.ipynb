{
  "nbformat": 4,
  "nbformat_minor": 0,
  "metadata": {
    "colab": {
      "name": "BuscasComInformacao.ipynb",
      "provenance": [],
      "collapsed_sections": []
    },
    "kernelspec": {
      "name": "python3",
      "display_name": "Python 3"
    },
    "language_info": {
      "name": "python"
    }
  },
  "cells": [
    {
      "cell_type": "markdown",
      "source": [
        "# O Problema\n",
        "Sliding Puzzle - Bloco Deslizante"
      ],
      "metadata": {
        "id": "djG5wf6pvJ0b"
      }
    },
    {
      "cell_type": "code",
      "source": [
        "# !wget -qq https://miro.medium.com/max/700/1*W7jg4GmEjGBypd9WPktasQ.gif\n",
        "from IPython.display import Image\n",
        "Image(url='https://miro.medium.com/max/700/1*W7jg4GmEjGBypd9WPktasQ.gif',width=200)"
      ],
      "metadata": {
        "colab": {
          "base_uri": "https://localhost:8080/",
          "height": 218
        },
        "id": "vd2Vu6SPvQqa",
        "outputId": "86cbbdcc-7f2c-4c4e-a743-3e414d605390"
      },
      "execution_count": null,
      "outputs": [
        {
          "output_type": "execute_result",
          "data": {
            "text/plain": [
              "<IPython.core.display.Image object>"
            ],
            "text/html": [
              "<img src=\"https://miro.medium.com/max/700/1*W7jg4GmEjGBypd9WPktasQ.gif\" width=\"200\"/>"
            ]
          },
          "metadata": {},
          "execution_count": 2
        }
      ]
    },
    {
      "cell_type": "markdown",
      "source": [
        "# Resolver o quebra-cabeças usando Buscas"
      ],
      "metadata": {
        "id": "z68szrw0w_vY"
      }
    },
    {
      "cell_type": "code",
      "source": [
        "from copy import deepcopy\n",
        "import numpy as np\n",
        "from itertools import combinations\n",
        "\n",
        "class Estado:\n",
        "    def __init__(self, array):\n",
        "        self.array = np.array(array)\n",
        "    \n",
        "    def __repr__(self):\n",
        "        return str(self.array[0]) + '\\n' + str(self.array[1]) + '\\n' + str(self.array[2]) + '\\n'\n",
        "    \n",
        "    def __eq__(self, other):\n",
        "        return (self.array == other.array).all()\n",
        "\n",
        "\n",
        "class FilaPrioridade:\n",
        "    def __init__(self):\n",
        "        self.list = []\n",
        "\n",
        "    def put(self, item, priority):\n",
        "        self.list.append((priority, item))\n",
        "        self.list.sort(key=lambda x: x[0])\n",
        "\n",
        "    def get(self):\n",
        "        return self.list.pop(0)[1]\n",
        "    \n",
        "    def EspacoVazio(self):\n",
        "        return len(self.list) == 0\n",
        "\n",
        "class No:\n",
        "    def __init__(self, estadoInicial):\n",
        "        self.estado = estadoInicial\n",
        "        self.pos = self.getPos()\n",
        "        self.caminho = [estadoInicial]\n",
        "    \n",
        "    def AlcancaNovoEstado(self, novoEstado):\n",
        "        novoNo = deepcopy(self)\n",
        "        novoNo.estado = novoEstado\n",
        "        novoNo.pos = novoNo.getPos()\n",
        "        novoNo.caminho.append(novoEstado)\n",
        "        \n",
        "        return novoNo\n",
        "    \n",
        "    def getPos(self):\n",
        "        for i in range(3):\n",
        "            for j in range(3):\n",
        "                if self.estado.array[i][j] == 0:\n",
        "                    return i, j\n",
        "\n",
        "def VerificaPosicao(no, estadoParada):\n",
        "    return no.estado == estadoParada"
      ],
      "metadata": {
        "id": "nIkH54ZFunxH"
      },
      "execution_count": null,
      "outputs": []
    },
    {
      "cell_type": "code",
      "source": [
        "posicaoCorreta = [[1,2,3], [4,5,6], [7,8,0]]    # 0 para 'EspacoVazio'\n",
        "posicaoCorreta = Estado(posicaoCorreta)\n",
        "print(posicaoCorreta)"
      ],
      "metadata": {
        "colab": {
          "base_uri": "https://localhost:8080/"
        },
        "id": "LSrNFNEz65BI",
        "outputId": "4c5f4dc8-7818-4eb1-b0cc-028759ab6c0a"
      },
      "execution_count": null,
      "outputs": [
        {
          "output_type": "stream",
          "name": "stdout",
          "text": [
            "[1 2 3]\n",
            "[4 5 6]\n",
            "[7 8 0]\n",
            "\n"
          ]
        }
      ]
    },
    {
      "cell_type": "markdown",
      "source": [
        "#A*\n",
        "O algoritmo recebe:\n",
        "\n",
        "*   O nó inicial\n",
        "*   O nó final\n",
        "*   Uma heurística\n",
        "\n",
        "Começando pelo nó inicial, ele pega todos os vizinhos do nó atual e aplica a função de heurística. Essa função retorna um número que indica qual é a distância pro nó final. O vizinho que tiver o menor valor é o mais perto do nó final, então esse vizinho se torna o nó atual. O mesmo procedimento é repetido até que o nó atual seja o nó final.\n",
        "\n",
        "Como o algoritmo determina o custo entre as arestas ligadas nos vértices do grafo é muito importante, e essa função é determinada pela heurística pois é ela que vai direcionar a busca pro caminho correto. Não existe uma \"regra universal\" de como criar a função de heurística, mas nesse caso eu utilizei as duas mais conhecidas para a solução desse problema \"Hamming\" e \"Manhattan\".\n",
        "\n",
        "\n"
      ],
      "metadata": {
        "id": "H1jaR3vEvess"
      }
    },
    {
      "cell_type": "markdown",
      "source": [
        "##Hamming\n",
        "A distância de Hamming basicamente consideramos a quantidade de números fora da posição correta. Justamente pela definição da heurística, basicamente o que eu fiz foi percorrer as linhas i, e j que representa as colunas para aquela linha e fazer através de um condicional diferenciar a quantidade de números fora da posição final."
      ],
      "metadata": {
        "id": "B7o45xwwyiwR"
      }
    },
    {
      "cell_type": "markdown",
      "source": [
        "## Manhattan\n",
        "A heurística de Manhattan, por outro lado, considera, para cada número fora de posição, quantos movimentos serão necessários para posicioná-lo corretamente. Então, além de considerar os números fora de posição, também calcula a quantidade de movimentos necessários para move-los para a posição correta somado da profundidade da árvore. Nesse caso também se considera como a melhor opção a situação que precisará da menor quantidade de movimentos possíveis para ser resolvida.\n"
      ],
      "metadata": {
        "id": "4adxgjJb4oXQ"
      }
    },
    {
      "cell_type": "code",
      "source": [
        "def AEstrela(estadoInicial, estadoParada, heuristica):\n",
        "    tipoHeuristica = [\"Hamming\", \"Manhattan\"]\n",
        "    if heuristica not in tipoHeuristica:\n",
        "        print(\"Opção inválida\")\n",
        "    elif heuristica == \"Hamming\":\n",
        "        hn = lambda no: sum([sum([1 for i in range(3) for j in range(3) if no.estado.array[i][j] != estadoParada.array[i][j]])])\n",
        "    elif heuristica == \"Manhattan\":\n",
        "        hn = lambda no: sum([sum([abs(i-j) for i, j in zip(*no.estado.array.nonzero())])])\n",
        "\n",
        "\n",
        "\n",
        "    no = No(estadoInicial)\n",
        "    frg = FilaPrioridade()\n",
        "    frg.put(no, 0)\n",
        "    cnt = 0\n",
        "    while True:\n",
        "        cnt += 1\n",
        "        \n",
        "        if frg.EspacoVazio():\n",
        "            return False\n",
        "        no = frg.get()\n",
        "        if VerificaPosicao(no, estadoParada):\n",
        "            print(\"Solução encontrada em {} movimentos\".format(cnt))    \n",
        "            return no.caminho\n",
        "        x, y = no.pos\n",
        "        for i, j in [(-1, 0), (1, 0), (0, -1), (0, 1)]:\n",
        "            if i+x < 0 or i+x >= 3 or j+y < 0 or j+y >= 3:\n",
        "                continue\n",
        "            novoEstado = deepcopy(no.estado)\n",
        "            novoEstado.array[x+i][y+j], novoEstado.array[x][y] = novoEstado.array[x][y], novoEstado.array[x+i][y+j]\n",
        "            novoNo = no.AlcancaNovoEstado(novoEstado)\n",
        "            if novoNo.estado in no.caminho:        \n",
        "                continue\n",
        "            frg.put(novoNo, len(novoNo.caminho)-1 + hn(novoNo))  "
      ],
      "metadata": {
        "id": "NCJaMn44XBBl"
      },
      "execution_count": null,
      "outputs": []
    },
    {
      "cell_type": "code",
      "source": [
        "tipoHeuristica = [\"Hamming\", \"Manhattan\"]\n",
        "AEstrela(Estado([[1,2,3],[4,5,6],[7,0,8]]), posicaoCorreta, tipoHeuristica[1])\n",
        "#TESTE MANHATTAN"
      ],
      "metadata": {
        "colab": {
          "base_uri": "https://localhost:8080/"
        },
        "id": "wnHG3hSjvIco",
        "outputId": "657dbdee-af85-496a-ce5b-ce8c658e6134"
      },
      "execution_count": 16,
      "outputs": [
        {
          "output_type": "stream",
          "name": "stdout",
          "text": [
            "Solução encontrada em 4 movimentos\n"
          ]
        },
        {
          "output_type": "execute_result",
          "data": {
            "text/plain": [
              "[[1 2 3]\n",
              " [4 5 6]\n",
              " [7 0 8], [1 2 3]\n",
              " [4 5 6]\n",
              " [7 8 0]]"
            ]
          },
          "metadata": {},
          "execution_count": 16
        }
      ]
    },
    {
      "cell_type": "markdown",
      "source": [
        "## Discorra sobre o desempenho do método em questões de:\n",
        "\n",
        "\n",
        "1.   Consumo de memória\n",
        "2.   Desempenho\n",
        "\n",
        "\n",
        "\n",
        "---\n",
        "\n",
        "\n",
        "1. Não cheguei a testar o consumo de memória nesse algoritmo, portanto a minha conclusão para esse tópico é baseada em suposições. Acredito que o consumo de memória nesse algoritmo seja intenso, pois a gente poderia ter um cenário onde árvore de estados pode crescer indefinidamente sem haver nenhuma poda. Outro problema pra esse consumo de memória seria que no problema do quebra cabeça de 8 peças nós temos cenários onde é impossível chegar no estado final, fazendo com que tenhamos infinitas posssibilidades de estados, logo o critério de parada se torna impossível de ser atingido, fazendo com que o algoritmo entre em loop nesses casos.\n",
        "\n",
        "2. Considerando o tópico anterior, onde vimos o mesmo problema sendo resolvido,\n",
        "utilizando buscas sem informação (largura e profundidade), o uso de heurísticas permitiu um desempenho muito melhor em termos de tempo sendo que o A* Hamming em todos os cenários apresentou melhor desempenho. Enquanto que na busca em largura nós tinhamos um tempo de execução muito superior, chegando a quase 40 minutos nos mesmos 3 cenários testados para o nosso estado final, a busca com informação, utilizando o algoritmo A* utilizando uma heurística foi até 90x mais rápido, e em muitas vezes consegue chegar a resposta ótima, sendo que na busca em largura sempre temos a solução ótima. \n",
        "\n",
        "\n",
        "\n"
      ],
      "metadata": {
        "id": "qkmsAsLDe9Xa"
      }
    },
    {
      "cell_type": "markdown",
      "source": [
        "#TESTES\n",
        "ESTADO FINAL\n",
        "\n",
        " 1, 2, 3,\n",
        "\n",
        " 4, 5, 6,\n",
        "\n",
        " 7, 8, 0\n",
        "\n",
        "ESTADOS INICIAIS\n",
        "\n",
        " 1, 2, 5,\n",
        "\n",
        " 3, 0, 4,\n",
        "\n",
        " 6, 7, 8\n",
        "\n",
        "\n",
        "---\n",
        "\n",
        " 1, 2, 0,\n",
        "\n",
        " 3, 4, 5\n",
        "\n",
        " 6, 7, 8\n",
        "\n",
        "\n",
        "\n",
        "---\n",
        "\n",
        " 3, 2, 0\n",
        "\n",
        " 6, 1, 5\n",
        "\n",
        " 7, 4, 8\n",
        "\n",
        "\n",
        "---\n",
        "JOGO 1\n",
        "\n",
        "A* (Hamming): 59 segundos de execução, 22746 movimentos.\n",
        "\n",
        "A* (Manhattan): Parei a execução após 10 minutos\n",
        "\n",
        "JOGO 2\n",
        "\n",
        "A* (Hamming): 39 segundos de execução, 17466 movimentos.\n",
        "\n",
        "A* (Manhattan): Parei a execução após 10 minutos\n",
        "\n",
        "JOGO 3\n",
        "\n",
        "A* (Hamming): 38 segundos de execução 17394 movimentos\n",
        "\n",
        "A* (Manhattan): Parei a execução após 30 minutos"
      ],
      "metadata": {
        "id": "ZKez8R6wfYRn"
      }
    },
    {
      "cell_type": "code",
      "source": [
        "tipoHeuristica = [\"Hamming\", \"Manhattan\"]\n",
        "AEstrela(Estado([[1,2,5],[3,0,4],[6,7,8]]), posicaoCorreta, tipoHeuristica[0])\n",
        "#JOGO 1 Heuristica Hamming"
      ],
      "metadata": {
        "id": "IzolPaGtXowi",
        "colab": {
          "base_uri": "https://localhost:8080/"
        },
        "outputId": "df4510f4-7cd8-41f9-95a4-71178f4e0b2a"
      },
      "execution_count": 12,
      "outputs": [
        {
          "output_type": "stream",
          "name": "stdout",
          "text": [
            "Solução encontrada em 22746 movimentos\n"
          ]
        },
        {
          "output_type": "execute_result",
          "data": {
            "text/plain": [
              "[[1 2 5]\n",
              " [3 0 4]\n",
              " [6 7 8], [1 2 5]\n",
              " [3 4 0]\n",
              " [6 7 8], [1 2 5]\n",
              " [3 4 8]\n",
              " [6 7 0], [1 2 5]\n",
              " [3 4 8]\n",
              " [6 0 7], [1 2 5]\n",
              " [3 0 8]\n",
              " [6 4 7], [1 2 5]\n",
              " [0 3 8]\n",
              " [6 4 7], [1 2 5]\n",
              " [6 3 8]\n",
              " [0 4 7], [1 2 5]\n",
              " [6 3 8]\n",
              " [4 0 7], [1 2 5]\n",
              " [6 3 8]\n",
              " [4 7 0], [1 2 5]\n",
              " [6 3 0]\n",
              " [4 7 8], [1 2 5]\n",
              " [6 0 3]\n",
              " [4 7 8], [1 2 5]\n",
              " [0 6 3]\n",
              " [4 7 8], [0 2 5]\n",
              " [1 6 3]\n",
              " [4 7 8], [2 0 5]\n",
              " [1 6 3]\n",
              " [4 7 8], [2 5 0]\n",
              " [1 6 3]\n",
              " [4 7 8], [2 5 3]\n",
              " [1 6 0]\n",
              " [4 7 8], [2 5 3]\n",
              " [1 0 6]\n",
              " [4 7 8], [2 0 3]\n",
              " [1 5 6]\n",
              " [4 7 8], [0 2 3]\n",
              " [1 5 6]\n",
              " [4 7 8], [1 2 3]\n",
              " [0 5 6]\n",
              " [4 7 8], [1 2 3]\n",
              " [4 5 6]\n",
              " [0 7 8], [1 2 3]\n",
              " [4 5 6]\n",
              " [7 0 8], [1 2 3]\n",
              " [4 5 6]\n",
              " [7 8 0]]"
            ]
          },
          "metadata": {},
          "execution_count": 12
        }
      ]
    },
    {
      "cell_type": "code",
      "source": [
        "tipoHeuristica = [\"Hamming\", \"Manhattan\"]\n",
        "AEstrela(Estado([[1,2,5],[3,0,4],[6,7,8]]), posicaoCorreta, tipoHeuristica[1])\n",
        "#JOGO 1 Heuristica Manhattan"
      ],
      "metadata": {
        "id": "SRkfh2sagen6"
      },
      "execution_count": null,
      "outputs": []
    },
    {
      "cell_type": "code",
      "source": [
        "tipoHeuristica = [\"Hamming\", \"Manhattan\"]\n",
        "AEstrela(Estado([[1,2,0],[3,4,5],[6,7,8]]), posicaoCorreta, tipoHeuristica[0])\n",
        "#JOGO 2 Heuristica Hamming"
      ],
      "metadata": {
        "id": "JTVFgtewgbtI",
        "colab": {
          "base_uri": "https://localhost:8080/"
        },
        "outputId": "13c329cc-48a8-43ba-efd8-e4638c007231"
      },
      "execution_count": 11,
      "outputs": [
        {
          "output_type": "stream",
          "name": "stdout",
          "text": [
            "Solução encontrada em 17466 movimentos\n"
          ]
        },
        {
          "output_type": "execute_result",
          "data": {
            "text/plain": [
              "[[1 2 0]\n",
              " [3 4 5]\n",
              " [6 7 8], [1 0 2]\n",
              " [3 4 5]\n",
              " [6 7 8], [1 4 2]\n",
              " [3 0 5]\n",
              " [6 7 8], [1 4 2]\n",
              " [0 3 5]\n",
              " [6 7 8], [1 4 2]\n",
              " [6 3 5]\n",
              " [0 7 8], [1 4 2]\n",
              " [6 3 5]\n",
              " [7 0 8], [1 4 2]\n",
              " [6 3 5]\n",
              " [7 8 0], [1 4 2]\n",
              " [6 3 0]\n",
              " [7 8 5], [1 4 2]\n",
              " [6 0 3]\n",
              " [7 8 5], [1 4 2]\n",
              " [0 6 3]\n",
              " [7 8 5], [1 4 2]\n",
              " [7 6 3]\n",
              " [0 8 5], [1 4 2]\n",
              " [7 6 3]\n",
              " [8 0 5], [1 4 2]\n",
              " [7 0 3]\n",
              " [8 6 5], [1 0 2]\n",
              " [7 4 3]\n",
              " [8 6 5], [1 2 0]\n",
              " [7 4 3]\n",
              " [8 6 5], [1 2 3]\n",
              " [7 4 0]\n",
              " [8 6 5], [1 2 3]\n",
              " [7 4 5]\n",
              " [8 6 0], [1 2 3]\n",
              " [7 4 5]\n",
              " [8 0 6], [1 2 3]\n",
              " [7 4 5]\n",
              " [0 8 6], [1 2 3]\n",
              " [0 4 5]\n",
              " [7 8 6], [1 2 3]\n",
              " [4 0 5]\n",
              " [7 8 6], [1 2 3]\n",
              " [4 5 0]\n",
              " [7 8 6], [1 2 3]\n",
              " [4 5 6]\n",
              " [7 8 0]]"
            ]
          },
          "metadata": {},
          "execution_count": 11
        }
      ]
    },
    {
      "cell_type": "code",
      "source": [
        "tipoHeuristica = [\"Hamming\", \"Manhattan\"]\n",
        "AEstrela(Estado([[1,2,0],[3,4,5],[6,7,8]]), posicaoCorreta, tipoHeuristica[1])\n",
        "#JOGO 2 Heuristica Manhattan"
      ],
      "metadata": {
        "id": "6XtQu012mzyP"
      },
      "execution_count": null,
      "outputs": []
    },
    {
      "cell_type": "code",
      "source": [
        "tipoHeuristica = [\"Hamming\", \"Manhattan\"]\n",
        "AEstrela(Estado([[3,2,0],[6,1,5],[7,4,8]]), posicaoCorreta, tipoHeuristica[0])\n",
        "#JOGO 3 Heuristica Hamming"
      ],
      "metadata": {
        "colab": {
          "base_uri": "https://localhost:8080/"
        },
        "id": "UR8wYnecmDHw",
        "outputId": "38a56328-a58b-48a0-86e4-063e6e89ca4e"
      },
      "execution_count": 13,
      "outputs": [
        {
          "output_type": "stream",
          "name": "stdout",
          "text": [
            "Solução encontrada em 17394 movimentos\n"
          ]
        },
        {
          "output_type": "execute_result",
          "data": {
            "text/plain": [
              "[[3 2 0]\n",
              " [6 1 5]\n",
              " [7 4 8], [3 0 2]\n",
              " [6 1 5]\n",
              " [7 4 8], [3 1 2]\n",
              " [6 0 5]\n",
              " [7 4 8], [3 1 2]\n",
              " [0 6 5]\n",
              " [7 4 8], [0 1 2]\n",
              " [3 6 5]\n",
              " [7 4 8], [1 0 2]\n",
              " [3 6 5]\n",
              " [7 4 8], [1 2 0]\n",
              " [3 6 5]\n",
              " [7 4 8], [1 2 5]\n",
              " [3 6 0]\n",
              " [7 4 8], [1 2 5]\n",
              " [3 0 6]\n",
              " [7 4 8], [1 2 5]\n",
              " [0 3 6]\n",
              " [7 4 8], [0 2 5]\n",
              " [1 3 6]\n",
              " [7 4 8], [2 0 5]\n",
              " [1 3 6]\n",
              " [7 4 8], [2 3 5]\n",
              " [1 0 6]\n",
              " [7 4 8], [2 3 5]\n",
              " [1 4 6]\n",
              " [7 0 8], [2 3 5]\n",
              " [1 4 6]\n",
              " [7 8 0], [2 3 5]\n",
              " [1 4 0]\n",
              " [7 8 6], [2 3 0]\n",
              " [1 4 5]\n",
              " [7 8 6], [2 0 3]\n",
              " [1 4 5]\n",
              " [7 8 6], [0 2 3]\n",
              " [1 4 5]\n",
              " [7 8 6], [1 2 3]\n",
              " [0 4 5]\n",
              " [7 8 6], [1 2 3]\n",
              " [4 0 5]\n",
              " [7 8 6], [1 2 3]\n",
              " [4 5 0]\n",
              " [7 8 6], [1 2 3]\n",
              " [4 5 6]\n",
              " [7 8 0]]"
            ]
          },
          "metadata": {},
          "execution_count": 13
        }
      ]
    },
    {
      "cell_type": "code",
      "source": [
        "tipoHeuristica = [\"Hamming\", \"Manhattan\"]\n",
        "AEstrela(Estado([[3,2,0],[6,1,5],[7,4,8]]), posicaoCorreta, tipoHeuristica[1])\n",
        "#JOGO 3 Heuristica Manhattan"
      ],
      "metadata": {
        "id": "an33t3YzpLNg"
      },
      "execution_count": null,
      "outputs": []
    }
  ]
}