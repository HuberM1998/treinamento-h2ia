{
  "cells": [
    {
      "cell_type": "markdown",
      "metadata": {
        "id": "djG5wf6pvJ0b"
      },
      "source": [
        "# O Problema\n",
        "Sliding Puzzle - Bloco Deslizante"
      ]
    },
    {
      "cell_type": "code",
      "execution_count": null,
      "metadata": {
        "colab": {
          "base_uri": "https://localhost:8080/",
          "height": 218
        },
        "id": "vd2Vu6SPvQqa",
        "outputId": "86cbbdcc-7f2c-4c4e-a743-3e414d605390"
      },
      "outputs": [
        {
          "data": {
            "text/html": [
              "<img src=\"https://miro.medium.com/max/700/1*W7jg4GmEjGBypd9WPktasQ.gif\" width=\"200\"/>"
            ],
            "text/plain": [
              "<IPython.core.display.Image object>"
            ]
          },
          "execution_count": 2,
          "metadata": {},
          "output_type": "execute_result"
        }
      ],
      "source": [
        "# !wget -qq https://miro.medium.com/max/700/1*W7jg4GmEjGBypd9WPktasQ.gif\n",
        "from IPython.display import Image\n",
        "Image(url='https://miro.medium.com/max/700/1*W7jg4GmEjGBypd9WPktasQ.gif',width=200)"
      ]
    },
    {
      "cell_type": "markdown",
      "metadata": {
        "id": "z68szrw0w_vY"
      },
      "source": [
        "# Resolver o quebra-cabeças usando Buscas"
      ]
    },
    {
      "cell_type": "code",
      "execution_count": 3,
      "metadata": {
        "id": "nIkH54ZFunxH"
      },
      "outputs": [],
      "source": [
        "from copy import deepcopy\n",
        "import numpy as np\n",
        "from itertools import combinations\n",
        "\n",
        "class Estado:\n",
        "    def __init__(self, array):\n",
        "        self.array = np.array(array)\n",
        "    \n",
        "    def __repr__(self):\n",
        "        return str(self.array[0]) + '\\n' + str(self.array[1]) + '\\n' + str(self.array[2]) + '\\n'\n",
        "    \n",
        "    def __eq__(self, other):\n",
        "        return (self.array == other.array).all()\n",
        "\n",
        "\n",
        "class FilaPrioridade:\n",
        "    def __init__(self):\n",
        "        self.list = []\n",
        "\n",
        "    def put(self, item, priority):\n",
        "        self.list.append((priority, item))\n",
        "        self.list.sort(key=lambda x: x[0])\n",
        "\n",
        "    def get(self):\n",
        "        return self.list.pop(0)[1]\n",
        "    \n",
        "    def EspacoVazio(self):\n",
        "        return len(self.list) == 0\n",
        "\n",
        "class No:\n",
        "    def __init__(self, estadoInicial):\n",
        "        self.estado = estadoInicial\n",
        "        self.pos = self.getPos()\n",
        "        self.caminho = [estadoInicial]\n",
        "    \n",
        "    def AlcancaNovoEstado(self, novoEstado):\n",
        "        novoNo = deepcopy(self)\n",
        "        novoNo.estado = novoEstado\n",
        "        novoNo.pos = novoNo.getPos()\n",
        "        novoNo.caminho.append(novoEstado)\n",
        "        \n",
        "        return novoNo\n",
        "    \n",
        "    def getPos(self):\n",
        "        for i in range(3):\n",
        "            for j in range(3):\n",
        "                if self.estado.array[i][j] == 0:\n",
        "                    return i, j\n",
        "\n",
        "def VerificaPosicao(no, estadoParada):\n",
        "    return no.estado == estadoParada"
      ]
    },
    {
      "cell_type": "code",
      "execution_count": 4,
      "metadata": {
        "colab": {
          "base_uri": "https://localhost:8080/"
        },
        "id": "LSrNFNEz65BI",
        "outputId": "71b8dc3d-aa66-4991-834a-0a7eba4ab808"
      },
      "outputs": [
        {
          "name": "stdout",
          "output_type": "stream",
          "text": [
            "[1 2 3]\n",
            "[4 5 6]\n",
            "[7 8 0]\n",
            "\n"
          ]
        }
      ],
      "source": [
        "posicaoCorreta = [[1,2,3], [4,5,6], [7,8,0]]    # 0 é o espaço vazio\n",
        "posicaoCorreta = Estado(posicaoCorreta)\n",
        "print(posicaoCorreta)"
      ]
    },
    {
      "cell_type": "markdown",
      "metadata": {
        "id": "mE-bFbGUxD7G"
      },
      "source": [
        "## Busca em Largura"
      ]
    },
    {
      "cell_type": "code",
      "execution_count": 6,
      "metadata": {
        "id": "ScP4_nMV5rPv"
      },
      "outputs": [],
      "source": [
        "def BuscaLargura(estadoInicial, estadoParada):\n",
        "    no = No(estadoInicial)\n",
        "    frg = [no]\n",
        "    cnt = 0\n",
        "    while True:\n",
        "        cnt += 1\n",
        "        \n",
        "        if frg == []:\n",
        "            return False\n",
        "        no = frg.pop(0)\n",
        "        #Se a posição do quebra cabeça for a posição desejada paramos o laço\n",
        "        if VerificaPosicao(no, estadoParada):\n",
        "            print(\"Solução encontrada em {} movimentos\".format(cnt))\n",
        "            return no.caminho\n",
        "\n",
        "        x, y = no.pos\n",
        "        #A lógica da implementação para validação de um movimento é baseada em um laço\n",
        "        #duplo de repetição. A primeira variável i representa a linha e j representa as colunas para aquela\n",
        "        #linha. A validação do movimento é feita através da identificação da posição do número 0.\n",
        "        #Uma vez encontrado adiciona-se e subtrai-se 1 no valor da linha para testar se é possível\n",
        "        #movimentar para cima e para baixo. O mesmo teste é realizado para a coluna, porém nesse\n",
        "        #caso é testado a possibilidade de mover-se para direita e esquerda. O movimento é valido se o\n",
        "        #valor adicionado for menor que 3 ou se o valor subtraído for no mínimo 0.\n",
        "        for i, j in [(-1, 0), (1, 0), (0, -1), (0, 1)]:\n",
        "            if i+x < 0 or i+x >= 3 or j+y < 0 or j+y >= 3:\n",
        "                continue\n",
        "            novoEstado = deepcopy(no.estado)\n",
        "            novoEstado.array[x+i][y+j], novoEstado.array[x][y] = novoEstado.array[x][y], novoEstado.array[x+i][y+j] \n",
        "            novoNo = no.AlcancaNovoEstado(novoEstado)\n",
        "            if novoNo.estado in no.caminho:         \n",
        "                continue\n",
        "            frg.append(novoNo)"
      ]
    },
    {
      "cell_type": "code",
      "execution_count": 7,
      "metadata": {
        "colab": {
          "base_uri": "https://localhost:8080/"
        },
        "id": "Uv0QuJ_F9bfX",
        "outputId": "1575842c-288e-4859-8651-2d36c3ed1b83"
      },
      "outputs": [
        {
          "name": "stdout",
          "output_type": "stream",
          "text": [
            "Solução encontrada em 4 movimentos\n"
          ]
        },
        {
          "data": {
            "text/plain": [
              "[[1 2 3]\n",
              " [4 5 6]\n",
              " [7 0 8], [1 2 3]\n",
              " [4 5 6]\n",
              " [7 8 0]]"
            ]
          },
          "execution_count": 7,
          "metadata": {},
          "output_type": "execute_result"
        }
      ],
      "source": [
        "BuscaLargura(Estado([[1,2,3],[4,5,6],[7,0,8]]), posicaoCorreta)"
      ]
    },
    {
      "cell_type": "markdown",
      "metadata": {
        "id": "Qs9iQk4KxTY-"
      },
      "source": [
        "## Busca em Profundidade"
      ]
    },
    {
      "cell_type": "code",
      "execution_count": 2,
      "metadata": {
        "id": "2DePRU9bxco8"
      },
      "outputs": [],
      "source": [
        "def BuscaProfundidade(estadoInicial, estadoParada):\n",
        "    no = No(estadoInicial)\n",
        "    frg = [no]\n",
        "    cnt = 0\n",
        "    while True:\n",
        "        cnt += 1\n",
        "        \n",
        "        if frg == []:\n",
        "            return False\n",
        "        no = frg.pop(0)\n",
        "        if VerificaPosicao(no, estadoParada):\n",
        "            print(\"Solução encontrada em {} movimentos\".format(cnt))\n",
        "            return no.caminho\n",
        "        x, y = no.pos\n",
        "        #Mesma lógica\n",
        "        for i, j in [(-1, 0), (1, 0), (0, -1), (0, 1)]:\n",
        "            if i+x < 0 or i+x >= 3 or j+y < 0 or j+y >= 3:\n",
        "                continue\n",
        "            novoEstado = deepcopy(no.estado)\n",
        "            novoEstado.array[x+i][y+j], novoEstado.array[x][y] = novoEstado.array[x][y], novoEstado.array[x+i][y+j] #troca\n",
        "            novoNo = no.AlcancaNovoEstado(novoEstado)\n",
        "            if novoNo.estado in no.caminho: \n",
        "                continue\n",
        "            frg.insert(0, novoNo)"
      ]
    },
    {
      "cell_type": "code",
      "execution_count": 5,
      "metadata": {
        "colab": {
          "base_uri": "https://localhost:8080/"
        },
        "id": "UlFCk4J49lSc",
        "outputId": "43ae062d-8866-4aad-93b9-69294c504712"
      },
      "outputs": [
        {
          "name": "stdout",
          "output_type": "stream",
          "text": [
            "Solução encontrada em 2 movimentos\n"
          ]
        },
        {
          "data": {
            "text/plain": [
              "[[1 2 3]\n",
              " [4 5 6]\n",
              " [7 0 8], [1 2 3]\n",
              " [4 5 6]\n",
              " [7 8 0]]"
            ]
          },
          "execution_count": 5,
          "metadata": {},
          "output_type": "execute_result"
        }
      ],
      "source": [
        "BuscaProfundidade(Estado([[1,2,3],[4,5,6],[7,0,8]]), posicaoCorreta)"
      ]
    },
    {
      "cell_type": "markdown",
      "metadata": {
        "id": "j3AyAw_mx0EZ"
      },
      "source": [
        "## Discorra sobre o desempenho dos métodos em questões de:\n",
        "\n",
        "\n",
        "1.   Consumo de memória\n",
        "2.   Processamento"
      ]
    },
    {
      "cell_type": "markdown",
      "metadata": {
        "id": "EfW_RJiZUrLz"
      },
      "source": [
        "Sabemos que para chegar à uma solução do problema do quebra-cabeça de blocos deslizantes partimos de um estado inicial qualquer, pode ser qualquer combinação de números entre 0-8, onde 0 representa vazio, até um estado final desejado. \n",
        "Em geral, no algoritmo criado a Busca em Profundidade visita todos os vértices do grafo, enquanto a Busca em Largura visita apenas os vértices que estão ao alcance do vértice inicial.\n",
        "\n",
        "---\n",
        "Em termos de consumo de memória a Busca em Profundidade tem uma vantagem considerável, pois apenas o caminho de nós sendo analisados precisa armazenado. Caminhos que já foram explorados podem ser descartados da memória. Contudo, em termos de desempenho, existe uma desvantagem grande em relação à busca em largura, pois o algoritmo de busca em profundidade pode fazer uma busca muito \n",
        "longa mesmo quando a resposta do problema está localizada a poucos nós da raiz da árvore.\n",
        "\n",
        "Em relação aos cenários testados em ambos os métodos, conclui que, para definições do jogo de quebra cabeça onde as posições não estão muito diferentes da posição inicial, a busca por largura pode ser pode ser considerada um método eficaz, porém quando temos uma posição mais complexa não temos uma solução em perfomance de tempo satisfatória. A busca por profundidade, por outro lado, solucionou poucos cenários propostos.\n",
        "\n",
        "\n"
      ]
    }
  ],
  "metadata": {
    "colab": {
      "collapsed_sections": [],
      "name": "BuscasCegas.ipynb",
      "provenance": []
    },
    "kernelspec": {
      "display_name": "Python 3",
      "name": "python3"
    },
    "language_info": {
      "name": "python"
    }
  },
  "nbformat": 4,
  "nbformat_minor": 0
}
