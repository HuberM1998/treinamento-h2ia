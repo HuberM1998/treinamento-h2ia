{
  "nbformat": 4,
  "nbformat_minor": 0,
  "metadata": {
    "colab": {
      "name": "AlgoritmoGenetico.ipynb",
      "provenance": []
    },
    "kernelspec": {
      "name": "python3",
      "display_name": "Python 3"
    },
    "language_info": {
      "name": "python"
    }
  },
  "cells": [
    {
      "cell_type": "markdown",
      "source": [
        "O problema consiste numa mochila, de capacidade\n",
        "x, e um conjunto de n itens de\n",
        "pesos p_1,p_2,...,p_n, e com valores v_1,v_2,...\n",
        ",v_n associados. De acordo com esses valores, o\n",
        "objetivo é alocar itens na mochila sem repeti-\n",
        "los, respeitando o peso máximo de cada mochila,\n",
        "encontrando ainda, o maior valor possível. Estamos utilizando uma mochila binária que receberá o valor 1 (um) se o\n",
        "item j for alocado ao recipiente i, caso contrário, será\n",
        "0 (zero). Pelo que li na literatura, existem algumas formas de se resolver o problema da mochila, algumas delas são, Simulated\n",
        "Annealing, Busca Tabu, Algoritmos Genéticos, Greedy Randomized\n",
        "Adaptive Search Procedure - GRASP, Variable\n",
        "Neighborhood Search - VNS e Redes Neurais. Neste notebook estaremos utilizando um Algoritmo Genético que, por definição, é uma técnica de busca utilizada para achar soluções aproximadas em problemas de otimização e busca, e são uma classe particular de algoritmos evolutivos que usam técnicas inspiradas pela biologia evolutiva como mutação, seleção natural e recombinação, e por esse motivo são eficientes em identificar e convergir para soluções ótimas, ou aproximadamente ótimas em níveis globais."
      ],
      "metadata": {
        "id": "CD9LHe4pg8PG"
      }
    },
    {
      "cell_type": "markdown",
      "source": [
        "![mochila.png](data:image/png;base64,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)\n",
        "\n"
      ],
      "metadata": {
        "id": "BM9W2GAsgq7j"
      }
    },
    {
      "cell_type": "code",
      "source": [
        "import numpy as np\n",
        "\n",
        "pesoTotalAceitavel = 275\n",
        "p_i = [63, 21, 2, 32, 13, 80, 19, 37, 56, 41, 14, 8, 32, 42, 7]\n",
        "v_i = [13, 2, 20, 10, 7, 14, 7, 2, 2, 4, 16, 17, 17, 3, 21]\n",
        "\n",
        "def MochilaGenetica(tamanhoPopulacao, taxaMutacao, taxaCruzamento, numGeracoes, numElitismo):\n",
        "\n",
        "  if tamanhoPopulacao < 1 | numGeracoes < 1 | numElitismo > tamanhoPopulacao:\n",
        "    return\n",
        "  populacao = CriaPopulacao(tamanhoPopulacao)\n",
        "  restPopulacao, restDiv = divmod(tamanhoPopulacao - numElitismo, 2)\n",
        "\n",
        "  for g in range(numGeracoes):\n",
        "    proxGenoma = []\n",
        "    for j in range(numElitismo):\n",
        "      proxGenoma.append(populacao[j])\n",
        "    \n",
        "    for i in range(restPopulacao):\n",
        "      parenteUm, parenteDois = SelecionaPais(populacao), SelecionaPais(populacao)\n",
        "      filhos = AplicaCruzamento(parenteUm, parenteDois, taxaCruzamento)\n",
        "      for c in filhos:\n",
        "        mutacao = np.random.random()\n",
        "        if mutacao <= taxaMutacao: c = AplicaMutacao(c)\n",
        "        InsercaoIndividual(c, proxGenoma)\n",
        "    \n",
        "    if restDiv:\n",
        "      p = SelecionaPais(populacao)\n",
        "      mutacao = np.random.random()\n",
        "      if mutacao <= taxaMutacao: p = AplicaMutacao(p)\n",
        "      InsercaoIndividual(p, proxGenoma)\n",
        "       \n",
        "    populacao = proxGenoma\n",
        "    \n",
        "  return populacao[0]\n",
        "\n",
        "def InsercaoIndividual(novoIndividuo, populacao):\n",
        "    i = 0\n",
        "    while i < len(populacao):\n",
        "      if populacao[i][0] < novoIndividuo[0]:\n",
        "        break\n",
        "      i+=1\n",
        "    populacao.insert(i, novoIndividuo)\n",
        "\n",
        "def AchaMelhorSolucao(solucao):\n",
        "  peso, valor = 0, 0\n",
        "  for i in range(15):\n",
        "    bit = (solucao >> i) & 1\n",
        "    if bit:\n",
        "      peso += p_i[i]\n",
        "      valor += v_i[i]\n",
        "  return peso, valor\n",
        "\n",
        "def capacResult(solucao):\n",
        "  peso, valor = AchaMelhorSolucao(solucao)\n",
        "  if peso > pesoTotalAceitavel:\n",
        "    return valor - peso\n",
        "  else: return valor\n",
        "\n",
        "def CriaPopulacao(tamanhoPopulacao):\n",
        "  amostraPopulacao = np.random.randint(10000, size=tamanhoPopulacao)\n",
        "  populacao = []\n",
        "  for i in amostraPopulacao:\n",
        "    solucUni = (capacResult(i), i)\n",
        "    InsercaoIndividual(solucUni, populacao)\n",
        "  return populacao\n",
        "\n",
        "def AplicaMutacao(solucao): \n",
        "  indice = np.random.randint(15)\n",
        "  solucAplicMutacao = solucao[1] ^ 1 << indice\n",
        "  capacAplicMutacao = capacResult(solucAplicMutacao)\n",
        "  return capacAplicMutacao, solucAplicMutacao\n",
        "\n",
        "np.random.randint(1,3)\n",
        "\n",
        "def AplicaCruzamento(primGenoma, segGenoma, taxaCruzamento):\n",
        "  primCorte = np.random.randint(1,15)\n",
        "  segCorte = 15-primCorte\n",
        "  defCruza = np.random.random()\n",
        "  if defCruza <= taxaCruzamento:\n",
        "    primGenomaRef = primGenoma[1] >> segCorte, primGenoma[1] &(10000 >> primCorte)\n",
        "    segGenomaRef = segGenoma[1] >> segCorte, segGenoma[1] &(10000 >> primCorte)\n",
        "\n",
        "    filhoUm = primGenomaRef[0] << segCorte | segGenomaRef[1]\n",
        "    filhoDois = segGenomaRef[0] << segCorte | primGenomaRef[1] \n",
        "  \n",
        "    return [(capacResult(filhoUm), filhoUm), (capacResult(filhoDois), filhoDois)]\n",
        "  return [primGenoma, segGenoma]\n",
        "\n",
        "capacidadeNormal = lambda capacidade, capacMin: capacidade + capacMin + 1\n",
        "\n",
        "def SelecionaPais(populacao):\n",
        "  capacMinima = abs(populacao[-1][0])\n",
        "  somaCapac = 0\n",
        "  for i in populacao: somaCapac += capacidadeNormal(i[0], capacMinima)\n",
        "  selecaoCapac = [capacidadeNormal(i[0], capacMinima)/somaCapac for i in populacao]\n",
        "  return populacao[np.random.choice(len(populacao), p=selecaoCapac)]\n",
        "\n",
        "if __name__ == '__main__':\n",
        "\n",
        "  melhorSolucao = MochilaGenetica(tamanhoPopulacao=100,taxaMutacao=0.03,taxaCruzamento=0.9,numGeracoes=200,numElitismo=5)\n",
        "  peso, valor = AchaMelhorSolucao(melhorSolucao[1])\n",
        "\n",
        "  print(\"Melhor Solução:\", \"\\n-Peso:\",peso, \"\\n-Valor:\", valor)\n",
        "\n",
        "  \n",
        "\n"
      ],
      "metadata": {
        "colab": {
          "base_uri": "https://localhost:8080/"
        },
        "id": "GZMbVf--tq5K",
        "outputId": "5457df5f-6225-4b1a-c45c-ac61930ea8ed"
      },
      "execution_count": 18,
      "outputs": [
        {
          "output_type": "stream",
          "name": "stdout",
          "text": [
            "Melhor Solução: \n",
            "-Peso: 269 \n",
            "-Valor: 123\n"
          ]
        }
      ]
    }
  ]
}